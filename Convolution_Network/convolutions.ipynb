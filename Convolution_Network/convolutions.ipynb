{
 "cells": [
  {
   "cell_type": "code",
   "execution_count": 2,
   "metadata": {},
   "outputs": [],
   "source": [
    "import numpy as np\n"
   ]
  },
  {
   "cell_type": "code",
   "execution_count": 3,
   "metadata": {},
   "outputs": [
    {
     "name": "stdout",
     "output_type": "stream",
     "text": [
      "original data\n",
      "[[1 1 1 0 0]\n",
      " [0 1 1 1 0]\n",
      " [0 0 1 1 1]\n",
      " [0 0 1 1 0]\n",
      " [0 1 1 0 0]]\n"
     ]
    }
   ],
   "source": [
    "source_map = np.array(list(\"1110001110001110011001100\")).astype(np.int32)\n",
    "\n",
    "source_map = source_map.reshape(5, 5)\n",
    "\n",
    "print(\"original data\")\n",
    "print(source_map)"
   ]
  },
  {
   "cell_type": "code",
   "execution_count": 6,
   "metadata": {},
   "outputs": [
    {
     "name": "stdout",
     "output_type": "stream",
     "text": [
      "filter\n",
      "[[1 0 1]\n",
      " [0 1 0]\n",
      " [1 0 1]]\n"
     ]
    }
   ],
   "source": [
    "# filter\n",
    "\n",
    "filter1 = np.array(list('101010101')).astype(np.int32).reshape(3, 3)\n",
    "print(\"filter\")\n",
    "print(filter1)\n",
    "\n"
   ]
  },
  {
   "cell_type": "markdown",
   "metadata": {},
   "source": [
    "# Convolution without bias"
   ]
  },
  {
   "cell_type": "code",
   "execution_count": 9,
   "metadata": {},
   "outputs": [
    {
     "name": "stdout",
     "output_type": "stream",
     "text": [
      "[[4. 3. 4.]\n",
      " [2. 4. 3.]\n",
      " [2. 3. 4.]]\n"
     ]
    }
   ],
   "source": [
    "width_idx = height_idx = source_map.shape[0] - filter1.shape[0] + 1\n",
    "result = np.zeros((width_idx, height_idx))\n",
    "\n",
    "for i in range(width_idx):\n",
    "    conv_width = filter1.shape[0] + i\n",
    "    for j in range(height_idx):\n",
    "        conv_height = filter1.shape[1] + j\n",
    "        value1 = source_map[i:conv_width, j:conv_height] * filter1\n",
    "        result[i, j] = np.sum(value1)\n",
    "\n",
    "print(result)\n"
   ]
  },
  {
   "cell_type": "markdown",
   "metadata": {},
   "source": [
    "# Convolution with bias "
   ]
  },
  {
   "cell_type": "code",
   "execution_count": 21,
   "metadata": {},
   "outputs": [
    {
     "name": "stdout",
     "output_type": "stream",
     "text": [
      "[[0. 0. 0. 0. 0. 0. 0.]\n",
      " [0. 1. 1. 1. 0. 0. 0.]\n",
      " [0. 0. 1. 1. 1. 0. 0.]\n",
      " [0. 0. 0. 1. 1. 1. 0.]\n",
      " [0. 0. 0. 1. 1. 0. 0.]\n",
      " [0. 0. 1. 1. 0. 0. 0.]\n",
      " [0. 0. 0. 0. 0. 0. 0.]]\n"
     ]
    },
    {
     "data": {
      "text/plain": [
       "array([[2., 2., 3., 1., 1.],\n",
       "       [1., 4., 3., 4., 1.],\n",
       "       [1., 2., 4., 3., 3.],\n",
       "       [1., 2., 3., 4., 1.],\n",
       "       [0., 2., 2., 1., 1.]])"
      ]
     },
     "execution_count": 21,
     "metadata": {},
     "output_type": "execute_result"
    }
   ],
   "source": [
    "origin_width = origin_width = source_map.shape[0]\n",
    "width_bias = height_bias = origin_width + 2 * 1 # right + left and up + down\n",
    "source_map_bias = np.zeros((width_bias, height_bias))\n",
    "for i in range(1, width_bias-1):\n",
    "    for j in range(1, height_bias-1):\n",
    "        source_map_bias[i, j] = source_map[i- 1, j - 1] \n",
    "\n",
    "print(source_map_bias)\n",
    "\n",
    "width_idx = height_idx = source_map_bias.shape[0] - filter1.shape[0] + 1\n",
    "result = np.zeros((width_idx, height_idx))\n",
    "\n",
    "\n",
    "for i in range(width_idx):\n",
    "    conv_width = filter1.shape[0] + i\n",
    "    for j in range(height_idx):\n",
    "        conv_height = filter1.shape[1] + j\n",
    "        value1 = source_map_bias[i:conv_width, j:conv_height] * filter1\n",
    "        result[i, j] = np.sum(value1)\n",
    "result"
   ]
  },
  {
   "cell_type": "markdown",
   "metadata": {},
   "source": [
    "Use scipy to calculate the convolution\n",
    "====\n",
    "____"
   ]
  },
  {
   "cell_type": "code",
   "execution_count": 22,
   "metadata": {},
   "outputs": [
    {
     "data": {
      "text/plain": [
       "array([[2., 2., 3., 1., 1.],\n",
       "       [1., 4., 3., 4., 1.],\n",
       "       [1., 2., 4., 3., 3.],\n",
       "       [1., 2., 3., 4., 1.],\n",
       "       [0., 2., 2., 1., 1.]])"
      ]
     },
     "execution_count": 22,
     "metadata": {},
     "output_type": "execute_result"
    }
   ],
   "source": [
    "from scipy.signal import convolve2d\n",
    "\n",
    "convolve2d(source_map_bias, filter1 , mode=\"valid\")"
   ]
  },
  {
   "cell_type": "markdown",
   "metadata": {},
   "source": [
    "## Define the image transfomration for convolution\n",
    "____"
   ]
  },
  {
   "cell_type": "code",
   "execution_count": 11,
   "metadata": {},
   "outputs": [],
   "source": [
    "from skimage.exposure import rescale_intensity\n",
    "\n",
    "\n",
    "def convolve(image:np.ndarray, kernel:np.ndarray):\n",
    "    (iH, iW) = image.shape[:2]\n",
    "    (kH, kW) = kernel.shape[:2]\n",
    "    \n",
    "    pad = int((kW - 1) / 2)\n",
    "    image = cv2.copyMakeBorder(image, pad, pad, pad, pad, cv2.BORDER_REPLICATE)\n",
    "    output = np.zeros((iH, iW), dtype=\"float32\")\n",
    "    \n",
    "    for y in np.arange(pad, iH + pad):\n",
    "        for x in np.arange(pad, iW + pad):\n",
    "            roi = image[y-pad: y+pad+1, x-pad:x+pad+1]\n",
    "            k = (roi * kernel).sum()\n",
    "            output[y-pad, x-pad] = k\n",
    "    output = rescale_intensity(output, in_range=(0, 255))\n",
    "    output = (output * 255).astype(\"uint8\")\n",
    "\n",
    "    return output\n",
    "    "
   ]
  },
  {
   "cell_type": "code",
   "execution_count": 7,
   "metadata": {},
   "outputs": [],
   "source": [
    "import skimage\n",
    "import cv2 \n",
    "\n",
    "image = skimage.data.chelsea()\n",
    "\n",
    "cv2.imshow(\"origin\", image)\n",
    "\n",
    "gray = cv2.cvtColor(image, cv2.COLOR_BGR2GRAY)\n",
    "cv2.imshow(\"gray\", gray)\n",
    "\n",
    "cv2.waitKey(0)\n",
    "cv2.destroyAllWindows()\n"
   ]
  },
  {
   "cell_type": "markdown",
   "metadata": {},
   "source": [
    "Blur \n",
    "===\n",
    "----"
   ]
  },
  {
   "cell_type": "code",
   "execution_count": 14,
   "metadata": {},
   "outputs": [],
   "source": [
    "smallBlur = np.ones((7, 7), dtype=\"float\") * (1.0 / (7 * 7))\n",
    "\n",
    "# convolution \n",
    "convolveOutput = convolve(gray, smallBlur)\n",
    "cv2.imshow(\"little Blur\", convolveOutput)\n",
    "# opencvOputput = cv2.filter2D(gray, -1, smallBlur)\n",
    "# cv2.imshow(\"cv2\", opencvOputput)\n",
    "largeBlur = np.ones((21, 21), dtype=\"float\") * (1.0 / (21 * 21))\n",
    "\n",
    "convolveOutput = convolve(gray, smallBlur)\n",
    "cv2.imshow(\"Large Blur\", convolveOutput)\n",
    "\n",
    "\n",
    "\n",
    "cv2.waitKey(0)\n",
    "cv2.destroyAllWindows()"
   ]
  },
  {
   "cell_type": "markdown",
   "metadata": {},
   "source": [
    "Sharpen \n",
    "===\n",
    "---"
   ]
  },
  {
   "cell_type": "code",
   "execution_count": 15,
   "metadata": {},
   "outputs": [],
   "source": [
    "sharpen = np.array([\n",
    "    [ 0, -1,  0],\n",
    "    [-1,  5, -1],\n",
    "    [ 0, -1,  0], \n",
    "], dtype=\"int\")\n",
    "\n",
    "convolveOutput = convolve(gray, sharpen)\n",
    "\n",
    "cv2.imshow(\"sharpen\", convolveOutput)\n",
    "\n",
    "cv2.waitKey(0)\n",
    "cv2.destroyAllWindows()"
   ]
  },
  {
   "cell_type": "markdown",
   "metadata": {},
   "source": [
    "Laplacian \n",
    "===\n",
    "----"
   ]
  },
  {
   "cell_type": "code",
   "execution_count": 16,
   "metadata": {},
   "outputs": [],
   "source": [
    "laplacian = np.array(\n",
    "   [[ 0,  1,  0],\n",
    "    [ 1, -4,  1],\n",
    "    [ 0,  1,  0]], dtype=\"int\"\n",
    ")\n",
    "\n",
    "convolveOutput = convolve(gray, laplacian)\n",
    "cv2.imshow(\"Laplacian\", convolveOutput)\n",
    "\n",
    "cv2.waitKey(0)\n",
    "cv2.destroyAllWindows()"
   ]
  },
  {
   "cell_type": "markdown",
   "metadata": {},
   "source": [
    "Sobel X-axis\n",
    "===\n",
    "----"
   ]
  },
  {
   "cell_type": "code",
   "execution_count": 20,
   "metadata": {},
   "outputs": [],
   "source": [
    "sobel_x = np.array(\n",
    "   [[ 1,  2,  1],\n",
    "    [ 0,  0,  0],\n",
    "    [-1, -2, -1]], dtype=\"int\"\n",
    ")\n",
    "\n",
    "convolveOutput = convolve(gray, sobel_x)\n",
    "cv2.imshow(\"Laplacian\", convolveOutput)\n",
    "\n",
    "cv2.waitKey(0)\n",
    "cv2.destroyAllWindows()"
   ]
  },
  {
   "cell_type": "markdown",
   "metadata": {},
   "source": [
    "Sobel Y-axis\n",
    "====\n",
    "-----"
   ]
  },
  {
   "cell_type": "code",
   "execution_count": 19,
   "metadata": {},
   "outputs": [],
   "source": [
    "sobel_y = np.array(\n",
    "   [[ 1,  0, -1],\n",
    "    [ 2,  0, -2],\n",
    "    [ 1,  0, -1]], dtype=\"int\"\n",
    ")\n",
    "\n",
    "\n",
    "convolveOutput = convolve(gray, sobel_y)\n",
    "cv2.imshow(\"Laplacian\", convolveOutput)\n",
    "\n",
    "cv2.waitKey(0)\n",
    "cv2.destroyAllWindows()"
   ]
  },
  {
   "cell_type": "code",
   "execution_count": null,
   "metadata": {},
   "outputs": [],
   "source": []
  }
 ],
 "metadata": {
  "kernelspec": {
   "display_name": "python",
   "language": "python",
   "name": "python3"
  },
  "language_info": {
   "codemirror_mode": {
    "name": "ipython",
    "version": 3
   },
   "file_extension": ".py",
   "mimetype": "text/x-python",
   "name": "python",
   "nbconvert_exporter": "python",
   "pygments_lexer": "ipython3",
   "version": "3.8.16"
  },
  "orig_nbformat": 4
 },
 "nbformat": 4,
 "nbformat_minor": 2
}
