{
 "cells": [
  {
   "cell_type": "markdown",
   "metadata": {},
   "source": [
    "Import package \n",
    "===\n",
    "---"
   ]
  },
  {
   "cell_type": "code",
   "execution_count": 1,
   "metadata": {},
   "outputs": [],
   "source": [
    "import os \n",
    "import torch \n",
    "\n",
    "from torch import nn\n",
    "from torch.nn import functional as F\n",
    "from torch.utils.data import DataLoader, random_split\n",
    "from torchvision import transforms\n",
    "from torchvision.datasets import MNIST\n",
    "\n"
   ]
  },
  {
   "cell_type": "markdown",
   "metadata": {},
   "source": [
    "Setup variable\n",
    "===\n",
    "---"
   ]
  },
  {
   "cell_type": "code",
   "execution_count": 2,
   "metadata": {},
   "outputs": [],
   "source": [
    "PATH_DATASETS = os.path.abspath(\".\") + \"/datasets\"\n",
    "SAVE_PATH = os.path.abspath(\".\") + \"/model\"\n",
    "BATCH_SIZE = 1000\n",
    "device = torch.device(\"cuda\" if torch.cuda.is_available() else \"cpu\")\n"
   ]
  },
  {
   "cell_type": "markdown",
   "metadata": {},
   "source": [
    "Load MNIST datasets\n",
    "===\n",
    "----"
   ]
  },
  {
   "cell_type": "code",
   "execution_count": 3,
   "metadata": {},
   "outputs": [],
   "source": [
    "if not os.path.exists(PATH_DATASETS):\n",
    "    os.mkdir(PATH_DATASETS)\n",
    "trains_MNIST = MNIST(PATH_DATASETS, train=True, download=True, \n",
    "                     transform=transforms.ToTensor())"
   ]
  },
  {
   "cell_type": "code",
   "execution_count": 4,
   "metadata": {},
   "outputs": [],
   "source": [
    "test_MNITST = MNIST(PATH_DATASETS, train=False, download=True, transform=transforms.ToTensor())"
   ]
  },
  {
   "cell_type": "code",
   "execution_count": 5,
   "metadata": {},
   "outputs": [
    {
     "name": "stdout",
     "output_type": "stream",
     "text": [
      "torch.Size([60000, 28, 28]) torch.Size([10000, 28, 28])\n"
     ]
    }
   ],
   "source": [
    "print(trains_MNIST.data.shape, test_MNITST.data.shape)"
   ]
  },
  {
   "cell_type": "markdown",
   "metadata": {},
   "source": [
    "Build model architecture\n",
    "===\n",
    "----"
   ]
  },
  {
   "cell_type": "code",
   "execution_count": 6,
   "metadata": {},
   "outputs": [],
   "source": [
    "import math\n",
    "\n",
    "def conv_width(W, F, P, S):\n",
    "    return math.floor(((W - F + 2 * P) / S) + 1)\n",
    "\n",
    "def conv_output_volume(W, F, P, S, out):\n",
    "    return conv_width(W, F, P, S) ** 2 * out\n",
    "\n",
    "def conv_parameter_count(F, C, out):\n",
    "    return F ** 2 * C * out\n",
    "\n",
    "def pool_width(W, F, P, S):\n",
    "    return conv_width(W, F, P, S)\n",
    "\n",
    "def pool_output_volume(W, F, P, S, filter_count):\n",
    "    return conv_output_volume(W, F, P, S, filter_count) \n",
    "\n",
    "def pool_parameter_count(W, F, S):\n",
    "    return 0\n",
    "\n",
    "def conv_pool_width(W, F, P, S, F2, P2, S2, n):\n",
    "    for _ in range(n):\n",
    "        W = pool_width(conv_width(W, F, P, S), F2, P2, S2)\n",
    "    \n",
    "    return W\n"
   ]
  },
  {
   "cell_type": "code",
   "execution_count": 7,
   "metadata": {},
   "outputs": [
    {
     "name": "stdout",
     "output_type": "stream",
     "text": [
      "24\n",
      "55 290400 34848\n",
      "55 290400 34848\n"
     ]
    }
   ],
   "source": [
    "print(conv_width(28, 5, 0, 1))\n",
    "print(conv_width(227, 11, 0, 4), conv_output_volume(227, 11, 0, 4, 96), conv_parameter_count(11, 3, 96))\n",
    "print(math.floor((227-11)/4)+1, 55*55*96, (11*11*3)*96)"
   ]
  },
  {
   "cell_type": "code",
   "execution_count": 8,
   "metadata": {},
   "outputs": [
    {
     "name": "stdout",
     "output_type": "stream",
     "text": [
      "28\n",
      "14\n",
      "14\n"
     ]
    },
    {
     "data": {
      "text/plain": [
       "(1568, 1568)"
      ]
     },
     "execution_count": 8,
     "metadata": {},
     "output_type": "execute_result"
    }
   ],
   "source": [
    "c1_width = conv_width(28, 5, 2, 1); print(c1_width)\n",
    "p1_width = pool_width(c1_width, 2, 0, 2); print(p1_width)\n",
    "c2_width = conv_width(p1_width, 5, 2, 1); print(c2_width)\n",
    "p2_out = pool_output_volume(c2_width, 2, 0, 2, 32)\n",
    "\n",
    "p2_out, 7*7*32"
   ]
  },
  {
   "cell_type": "code",
   "execution_count": 9,
   "metadata": {},
   "outputs": [
    {
     "data": {
      "text/plain": [
       "ConvNet(\n",
       "  (layer1): Sequential(\n",
       "    (0): Conv2d(1, 16, kernel_size=(5, 5), stride=(1, 1), padding=(2, 2))\n",
       "    (1): BatchNorm2d(16, eps=1e-05, momentum=0.1, affine=True, track_running_stats=True)\n",
       "    (2): ReLU()\n",
       "    (3): MaxPool2d(kernel_size=2, stride=2, padding=0, dilation=1, ceil_mode=False)\n",
       "  )\n",
       "  (layer2): Sequential(\n",
       "    (0): Conv2d(16, 32, kernel_size=(5, 5), stride=(1, 1), padding=(2, 2))\n",
       "    (1): BatchNorm2d(32, eps=1e-05, momentum=0.1, affine=True, track_running_stats=True)\n",
       "    (2): ReLU()\n",
       "    (3): MaxPool2d(kernel_size=2, stride=2, padding=0, dilation=1, ceil_mode=False)\n",
       "  )\n",
       "  (fc): Linear(in_features=1568, out_features=10, bias=True)\n",
       ")"
      ]
     },
     "execution_count": 9,
     "metadata": {},
     "output_type": "execute_result"
    }
   ],
   "source": [
    "class ConvNet(nn.Module):\n",
    "    def __init__(self, num_classes=10):\n",
    "        super(ConvNet, self).__init__()\n",
    "        self.layer1 = nn.Sequential(\n",
    "            nn.Conv2d(1, 16, kernel_size=5, padding=2, stride=1),\n",
    "            nn.BatchNorm2d(16), \n",
    "            nn.ReLU(), \n",
    "            nn.MaxPool2d(kernel_size=2, stride=2)\n",
    "        )\n",
    "        \n",
    "        self.layer2 = nn.Sequential(\n",
    "            nn.Conv2d(16, 32, kernel_size=5, padding=2, stride=1),\n",
    "            nn.BatchNorm2d(32),\n",
    "            nn.ReLU(),\n",
    "            nn.MaxPool2d(kernel_size=2, stride=2)    \n",
    "        )\n",
    "        \n",
    "        self.fc = nn.Linear(7 * 7 * 32, num_classes)\n",
    "    \n",
    "    def forward(self, x):\n",
    "        out:torch.Tensor = self.layer1(x)\n",
    "        out = self.layer2(out)\n",
    "        out = out.reshape(out.size(0), -1)\n",
    "        out = self.fc(out)\n",
    "        out = F.log_softmax(out, dim=1)\n",
    "        return out \n",
    "\n",
    "model = ConvNet().to(device)\n",
    "model\n",
    "        "
   ]
  },
  {
   "cell_type": "code",
   "execution_count": 10,
   "metadata": {},
   "outputs": [
    {
     "name": "stdout",
     "output_type": "stream",
     "text": [
      "Epoch 1: [10000 / 60000] (17) Loss: 1.981938\n",
      "Epoch 1: [20000 / 60000] (33) Loss: 2.036442\n",
      "Epoch 1: [30000 / 60000] (50) Loss: 1.460358\n",
      "Epoch 1: [40000 / 60000] (67) Loss: 1.061409\n",
      "Epoch 1: [50000 / 60000] (83) Loss: 0.748050\n",
      "Epoch 1: [60000 / 60000] (100) Loss: 0.395955\n",
      "Epoch 2: [10000 / 60000] (17) Loss: 0.389908\n",
      "Epoch 2: [20000 / 60000] (33) Loss: 0.278883\n",
      "Epoch 2: [30000 / 60000] (50) Loss: 0.296321\n",
      "Epoch 2: [40000 / 60000] (67) Loss: 0.308953\n",
      "Epoch 2: [50000 / 60000] (83) Loss: 0.304467\n",
      "Epoch 2: [60000 / 60000] (100) Loss: 0.203171\n",
      "Epoch 3: [10000 / 60000] (17) Loss: 0.187305\n",
      "Epoch 3: [20000 / 60000] (33) Loss: 0.198267\n",
      "Epoch 3: [30000 / 60000] (50) Loss: 0.206173\n",
      "Epoch 3: [40000 / 60000] (67) Loss: 0.225707\n",
      "Epoch 3: [50000 / 60000] (83) Loss: 0.212474\n",
      "Epoch 3: [60000 / 60000] (100) Loss: 0.151517\n",
      "Epoch 4: [10000 / 60000] (17) Loss: 0.135591\n",
      "Epoch 4: [20000 / 60000] (33) Loss: 0.134041\n",
      "Epoch 4: [30000 / 60000] (50) Loss: 0.149534\n",
      "Epoch 4: [40000 / 60000] (67) Loss: 0.179274\n",
      "Epoch 4: [50000 / 60000] (83) Loss: 0.163786\n",
      "Epoch 4: [60000 / 60000] (100) Loss: 0.133125\n",
      "Epoch 5: [10000 / 60000] (17) Loss: 0.112781\n",
      "Epoch 5: [20000 / 60000] (33) Loss: 0.095406\n",
      "Epoch 5: [30000 / 60000] (50) Loss: 0.122096\n",
      "Epoch 5: [40000 / 60000] (67) Loss: 0.145860\n",
      "Epoch 5: [50000 / 60000] (83) Loss: 0.146587\n",
      "Epoch 5: [60000 / 60000] (100) Loss: 0.120437\n",
      "Epoch 6: [10000 / 60000] (17) Loss: 0.096335\n",
      "Epoch 6: [20000 / 60000] (33) Loss: 0.082233\n",
      "Epoch 6: [30000 / 60000] (50) Loss: 0.102519\n",
      "Epoch 6: [40000 / 60000] (67) Loss: 0.123880\n",
      "Epoch 6: [50000 / 60000] (83) Loss: 0.138172\n",
      "Epoch 6: [60000 / 60000] (100) Loss: 0.108444\n",
      "Epoch 7: [10000 / 60000] (17) Loss: 0.087035\n",
      "Epoch 7: [20000 / 60000] (33) Loss: 0.077176\n",
      "Epoch 7: [30000 / 60000] (50) Loss: 0.086825\n",
      "Epoch 7: [40000 / 60000] (67) Loss: 0.110544\n",
      "Epoch 7: [50000 / 60000] (83) Loss: 0.130558\n",
      "Epoch 7: [60000 / 60000] (100) Loss: 0.101629\n",
      "Epoch 8: [10000 / 60000] (17) Loss: 0.077065\n",
      "Epoch 8: [20000 / 60000] (33) Loss: 0.064386\n",
      "Epoch 8: [30000 / 60000] (50) Loss: 0.075971\n",
      "Epoch 8: [40000 / 60000] (67) Loss: 0.099842\n",
      "Epoch 8: [50000 / 60000] (83) Loss: 0.123872\n",
      "Epoch 8: [60000 / 60000] (100) Loss: 0.090144\n",
      "Epoch 9: [10000 / 60000] (17) Loss: 0.068199\n",
      "Epoch 9: [20000 / 60000] (33) Loss: 0.059028\n",
      "Epoch 9: [30000 / 60000] (50) Loss: 0.064660\n",
      "Epoch 9: [40000 / 60000] (67) Loss: 0.090211\n",
      "Epoch 9: [50000 / 60000] (83) Loss: 0.120931\n",
      "Epoch 9: [60000 / 60000] (100) Loss: 0.083759\n",
      "Epoch 10: [10000 / 60000] (17) Loss: 0.065989\n",
      "Epoch 10: [20000 / 60000] (33) Loss: 0.060433\n",
      "Epoch 10: [30000 / 60000] (50) Loss: 0.058873\n",
      "Epoch 10: [40000 / 60000] (67) Loss: 0.090249\n",
      "Epoch 10: [50000 / 60000] (83) Loss: 0.111219\n",
      "Epoch 10: [60000 / 60000] (100) Loss: 0.080188\n"
     ]
    }
   ],
   "source": [
    "epochs = 10\n",
    "lr = 0.1\n",
    "\n",
    "train_loader = DataLoader(trains_MNIST, batch_size=BATCH_SIZE)\n",
    "\n",
    "optimizer = torch.optim.Adam(model.parameters(), lr=lr)\n",
    "\n",
    "model.train() \n",
    "loss_list = []\n",
    "for epoch in range(1, epochs + 1):\n",
    "    for batch_idx, (data, target) in enumerate(train_loader):\n",
    "        data, target = data.to(device), target.to(device)\n",
    "        \n",
    "        optimizer.zero_grad()\n",
    "        output = model(data)\n",
    "        loss = F.nll_loss(output, target)\n",
    "        loss.backward()\n",
    "        optimizer.step()\n",
    "        \n",
    "        if (batch_idx+1) % 10 == 0:\n",
    "            loss_list.append(loss.item())\n",
    "            batch = (batch_idx + 1) * len(data)\n",
    "            data_count = len(train_loader.dataset)\n",
    "            percentage = (100. * (batch_idx + 1) / len(train_loader))\n",
    "            print(\n",
    "                f\"Epoch {epoch}: [{batch:5d} / {data_count}] ({percentage:.0f})\"\n",
    "                f\" Loss: {loss.item():.6f}\"\n",
    "            )"
   ]
  },
  {
   "cell_type": "code",
   "execution_count": 11,
   "metadata": {},
   "outputs": [
    {
     "data": {
      "text/plain": [
       "[<matplotlib.lines.Line2D at 0x1fe4ea19130>]"
      ]
     },
     "execution_count": 11,
     "metadata": {},
     "output_type": "execute_result"
    },
    {
     "data": {
      "image/png": "[encoded data removed]",
      "text/plain": [
       "<Figure size 640x480 with 1 Axes>"
      ]
     },
     "metadata": {},
     "output_type": "display_data"
    }
   ],
   "source": [
    "import matplotlib.pyplot as plt \n",
    "plt.plot(loss_list, 'r')"
   ]
  },
  {
   "cell_type": "code",
   "execution_count": 12,
   "metadata": {},
   "outputs": [
    {
     "name": "stdout",
     "output_type": "stream",
     "text": [
      "Average Loss: 0.0001, Accurracy: 0.9749(97.49%)\n"
     ]
    }
   ],
   "source": [
    "test_loader = DataLoader(test_MNITST, shuffle=False, batch_size=BATCH_SIZE)\n",
    "\n",
    "model.eval()\n",
    "test_loss = 0\n",
    "correct = 0\n",
    "with torch.no_grad():\n",
    "    for data, target in test_loader:\n",
    "        data, target = data.to(device), target.to(device)\n",
    "        output = model(data)\n",
    "        \n",
    "        test_loss += F.nll_loss(output, target).item()\n",
    "        \n",
    "        output = model(data)\n",
    "        \n",
    "        _, predicted = torch.max(output.data, 1)\n",
    "        correct += (predicted == target).sum().item()\n",
    "\n",
    "test_loss /= len(test_loader.dataset)\n",
    "\n",
    "batch = batch_idx * len(data)\n",
    "data_count = len(test_loader.dataset)\n",
    "percentage = 100. * correct / data_count\n",
    "print(\n",
    "    f\"Average Loss: {test_loss:.4f}, Accurracy: {correct/data_count}\" \n",
    "    f\"({percentage:.2f}%)\"\n",
    ")"
   ]
  },
  {
   "cell_type": "code",
   "execution_count": 13,
   "metadata": {},
   "outputs": [
    {
     "name": "stdout",
     "output_type": "stream",
     "text": [
      "actuala   : [7 2 1 0 4 1 4 9 5 9 0 6 9 0 1 5 9 7 3 4]\n",
      "prediction:  7 2 1 0 4 1 4 9 5 9 0 6 9 0 1 5 9 7 3 4\n"
     ]
    }
   ],
   "source": [
    "predictions = []\n",
    "with torch.no_grad():\n",
    "    for i in range(20):\n",
    "        data, target = test_MNITST[i][0], test_MNITST[i][0]\n",
    "        data = data.reshape(1, *data.shape).to(device)\n",
    "        output = torch.argmax(model(data), axis=-1)\n",
    "        predictions.append(str(output.item()))\n",
    "\n",
    "print(\"actuala   :\", test_MNITST.targets[0: 20].numpy())\n",
    "print(\"prediction: \", ' '.join(predictions[0:20]))"
   ]
  },
  {
   "cell_type": "code",
   "execution_count": 14,
   "metadata": {},
   "outputs": [
    {
     "name": "stdout",
     "output_type": "stream",
     "text": [
      "torch.Size([1, 1, 28, 28])\n",
      "0~9: [[0. 0. 0. 0. 0. 0. 0. 1. 0. 0.]]\n",
      "0~9: [7]\n"
     ]
    }
   ],
   "source": [
    "import numpy as np\n",
    "\n",
    "i = 17\n",
    "data = test_MNITST[i][0]\n",
    "data = data.reshape(1, *(data.shape)).to(device)\n",
    "\n",
    "print(data.shape)\n",
    "prediction = torch.softmax(model(data), dim=1)\n",
    "print(f\"0~9: {np.around(prediction.cpu().detach().numpy(), 2)}\")\n",
    "print(f\"0~9: {np.argmax(prediction.cpu().detach().numpy(), axis=-1)}\")"
   ]
  },
  {
   "cell_type": "code",
   "execution_count": 15,
   "metadata": {},
   "outputs": [
    {
     "data": {
      "image/png": "[encoded data removed]",
      "text/plain": [
       "<Figure size 640x480 with 1 Axes>"
      ]
     },
     "metadata": {},
     "output_type": "display_data"
    }
   ],
   "source": [
    "img = test_MNITST[i][0]\n",
    "plt.imshow(img.reshape(28, 28), cmap='gray')\n",
    "plt.axis(\"off\")\n",
    "plt.show()"
   ]
  },
  {
   "cell_type": "code",
   "execution_count": 16,
   "metadata": {},
   "outputs": [],
   "source": [
    "if not os.path.exists(SAVE_PATH):\n",
    "    os.mkdir(SAVE_PATH)\n",
    "\n",
    "torch.save(model, SAVE_PATH + \"/cnn_model.pth\")"
   ]
  },
  {
   "cell_type": "code",
   "execution_count": 17,
   "metadata": {},
   "outputs": [],
   "source": [
    "MODEL_PATH = SAVE_PATH + \"/cnn_model.pth\"\n",
    "model = torch.load(MODEL_PATH)"
   ]
  },
  {
   "cell_type": "code",
   "execution_count": 18,
   "metadata": {},
   "outputs": [],
   "source": [
    "from skimage import io \n",
    "from skimage.transform import resize"
   ]
  },
  {
   "cell_type": "code",
   "execution_count": 19,
   "metadata": {},
   "outputs": [
    {
     "name": "stdout",
     "output_type": "stream",
     "text": [
      "0.0000 0.0000 0.0000 0.0000 0.0000 0.0000 0.0000 0.0000 0.0000 0.0000 0.0000 0.0000 0.0000 0.0000 0.0000 0.0000 0.0000 0.0000 0.0000 0.0000 0.0000 0.0000 0.0000 0.0000 0.0000 0.0000 0.0000 0.0000 \n",
      "0.0000 0.0000 0.0000 0.0000 0.0000 0.0000 0.0000 0.0000 0.0000 0.0000 0.0000 0.0000 0.0000 0.0000 0.0000 0.0000 0.0000 0.0000 0.0000 0.0000 0.0000 0.0000 0.0000 0.0000 0.0000 0.0000 0.0000 0.0000 \n",
      "0.0000 0.0000 0.0000 0.0000 0.0000 0.0001 0.0007 0.0127 0.0322 0.0294 0.0286 0.0300 0.0287 0.0222 0.0015 0.0000 0.0000 0.0000 0.0000 0.0000 0.0000 0.0000 0.0000 0.0000 0.0000 0.0000 0.0000 0.0000 \n",
      "0.0000 0.0000 0.0000 0.0000 0.0038 0.0521 0.3177 0.5352 0.7868 0.7620 0.7551 0.7675 0.7554 0.6823 0.2691 0.0049 0.0000 0.0000 0.0000 0.0000 0.0000 0.0000 0.0000 0.0000 0.0000 0.0000 0.0000 0.0000 \n",
      "0.0000 0.0000 0.0000 0.0000 0.0744 0.6630 0.6394 0.9639 0.9995 0.9996 0.9988 0.9982 0.9981 0.9965 0.8480 0.1256 0.0005 0.0000 0.0000 0.0000 0.0000 0.0000 0.0000 0.0000 0.0000 0.0000 0.0000 0.0000 \n",
      "0.0000 0.0000 0.0000 0.0112 0.3355 0.9526 0.7885 0.5236 0.9023 0.9157 0.6840 0.5460 0.5361 0.5678 0.5463 0.6816 0.1679 0.0015 0.0000 0.0000 0.0000 0.0000 0.0000 0.0000 0.0000 0.0000 0.0000 0.0000 \n",
      "0.0000 0.0000 0.0002 0.0958 0.6934 0.9960 0.9929 0.5535 0.0881 0.0897 0.0256 0.0020 0.0019 0.0021 0.0040 0.5463 0.8550 0.1986 0.0024 0.0000 0.0000 0.0000 0.0000 0.0000 0.0000 0.0000 0.0000 0.0000 \n",
      "0.0000 0.0000 0.0077 0.3510 0.9230 1.0000 0.9973 0.6175 0.0086 0.0000 0.0000 0.0000 0.0000 0.0001 0.0469 0.6721 0.9974 0.8307 0.0986 0.0000 0.0000 0.0000 0.0000 0.0000 0.0000 0.0000 0.0000 0.0000 \n",
      "0.0000 0.0000 0.0817 0.6928 0.9936 1.0000 0.9538 0.2831 0.0015 0.0000 0.0000 0.0000 0.0000 0.0084 0.3964 0.9350 0.9999 0.9485 0.1792 0.0000 0.0000 0.0000 0.0000 0.0000 0.0000 0.0000 0.0000 0.0000 \n",
      "0.0000 0.0006 0.2992 0.9507 0.9999 0.9984 0.7132 0.0491 0.0000 0.0000 0.0000 0.0001 0.0464 0.3587 0.9071 0.9995 1.0000 0.9442 0.1770 0.0000 0.0000 0.0000 0.0000 0.0000 0.0000 0.0000 0.0000 0.0000 \n",
      "0.0000 0.0105 0.6803 0.9980 1.0000 0.9596 0.3014 0.0027 0.0000 0.0000 0.0006 0.0099 0.5079 0.9629 0.9987 1.0000 0.9873 0.6735 0.0711 0.0000 0.0000 0.0000 0.0000 0.0000 0.0000 0.0000 0.0000 0.0000 \n",
      "0.0000 0.0932 0.9194 1.0000 0.9944 0.6130 0.0276 0.0000 0.0000 0.0050 0.2121 0.5717 0.9411 0.9999 0.9998 0.9734 0.6852 0.0960 0.0008 0.0000 0.0000 0.0000 0.0000 0.0000 0.0000 0.0000 0.0000 0.0000 \n",
      "0.0000 0.0974 0.9250 1.0000 0.9252 0.1271 0.0041 0.0237 0.1573 0.5153 0.9127 0.9974 0.9999 1.0000 0.9641 0.3904 0.0498 0.0003 0.0000 0.0000 0.0000 0.0000 0.0000 0.0000 0.0000 0.0000 0.0000 0.0000 \n",
      "0.0000 0.0113 0.5026 0.9750 0.8651 0.3379 0.4573 0.7483 0.9321 0.9937 0.9999 1.0000 1.0000 0.9924 0.6225 0.0220 0.0000 0.0000 0.0000 0.0000 0.0000 0.0000 0.0000 0.0000 0.0000 0.0000 0.0000 0.0000 \n",
      "0.0000 0.0000 0.0376 0.6158 0.8388 0.9493 0.9886 0.9995 0.9999 0.9994 0.9929 0.9976 1.0000 0.9543 0.2448 0.0006 0.0000 0.0000 0.0000 0.0000 0.0000 0.0000 0.0000 0.0000 0.0000 0.0000 0.0000 0.0000 \n",
      "0.0000 0.0000 0.0004 0.0425 0.1203 0.2941 0.8301 0.9493 0.9413 0.7244 0.7682 0.9866 0.9998 0.7860 0.0658 0.0000 0.0000 0.0000 0.0000 0.0000 0.0000 0.0000 0.0000 0.0000 0.0000 0.0000 0.0000 0.0000 \n",
      "0.0000 0.0000 0.0000 0.0000 0.0000 0.0007 0.0454 0.1111 0.1047 0.0798 0.7571 0.9983 0.9997 0.7470 0.0348 0.0000 0.0000 0.0000 0.0000 0.0000 0.0000 0.0000 0.0000 0.0000 0.0000 0.0000 0.0000 0.0000 \n",
      "0.0000 0.0000 0.0000 0.0000 0.0000 0.0000 0.0000 0.0000 0.0002 0.2379 0.9534 1.0000 0.9892 0.4790 0.0127 0.0000 0.0000 0.0000 0.0000 0.0000 0.0000 0.0000 0.0000 0.0000 0.0000 0.0000 0.0000 0.0000 \n",
      "0.0000 0.0000 0.0000 0.0000 0.0000 0.0000 0.0000 0.0000 0.0024 0.5895 0.9972 0.9999 0.8729 0.1206 0.0002 0.0000 0.0000 0.0000 0.0000 0.0000 0.0000 0.0000 0.0000 0.0000 0.0000 0.0000 0.0000 0.0000 \n",
      "0.0000 0.0000 0.0000 0.0000 0.0000 0.0000 0.0000 0.0000 0.0027 0.6286 0.9990 0.9971 0.4963 0.0081 0.0000 0.0000 0.0000 0.0000 0.0000 0.0000 0.0000 0.0000 0.0000 0.0000 0.0000 0.0000 0.0000 0.0000 \n",
      "0.0000 0.0000 0.0000 0.0000 0.0000 0.0000 0.0000 0.0000 0.0027 0.6286 0.9990 0.9393 0.1417 0.0002 0.0000 0.0000 0.0000 0.0000 0.0000 0.0000 0.0000 0.0000 0.0000 0.0000 0.0000 0.0000 0.0000 0.0000 \n",
      "0.0000 0.0000 0.0000 0.0000 0.0000 0.0000 0.0000 0.0000 0.0027 0.6286 0.9990 0.9210 0.0883 0.0000 0.0000 0.0000 0.0000 0.0000 0.0000 0.0000 0.0000 0.0000 0.0000 0.0000 0.0000 0.0000 0.0000 0.0000 \n",
      "0.0000 0.0000 0.0000 0.0000 0.0000 0.0000 0.0000 0.0000 0.0027 0.6285 0.9990 0.9209 0.0883 0.0000 0.0000 0.0000 0.0000 0.0000 0.0000 0.0000 0.0000 0.0000 0.0000 0.0000 0.0000 0.0000 0.0000 0.0000 \n",
      "0.0000 0.0000 0.0000 0.0000 0.0000 0.0000 0.0000 0.0000 0.0017 0.5015 0.9907 0.9209 0.0883 0.0000 0.0000 0.0000 0.0000 0.0000 0.0000 0.0000 0.0000 0.0000 0.0000 0.0000 0.0000 0.0000 0.0000 0.0000 \n",
      "0.0000 0.0000 0.0000 0.0000 0.0000 0.0000 0.0000 0.0000 0.0000 0.0475 0.6521 0.9174 0.0941 0.0000 0.0000 0.0000 0.0000 0.0000 0.0000 0.0000 0.0000 0.0000 0.0000 0.0000 0.0000 0.0000 0.0000 0.0000 \n",
      "0.0000 0.0000 0.0000 0.0000 0.0000 0.0000 0.0000 0.0000 0.0000 0.0001 0.0485 0.6257 0.2798 0.0007 0.0000 0.0000 0.0000 0.0000 0.0000 0.0000 0.0000 0.0000 0.0000 0.0000 0.0000 0.0000 0.0000 0.0000 \n",
      "0.0000 0.0000 0.0000 0.0000 0.0000 0.0000 0.0000 0.0000 0.0000 0.0000 0.0000 0.0140 0.0402 0.0001 0.0000 0.0000 0.0000 0.0000 0.0000 0.0000 0.0000 0.0000 0.0000 0.0000 0.0000 0.0000 0.0000 0.0000 \n",
      "0.0000 0.0000 0.0000 0.0000 0.0000 0.0000 0.0000 0.0000 0.0000 0.0000 0.0000 0.0000 0.0000 0.0000 0.0000 0.0000 0.0000 0.0000 0.0000 0.0000 0.0000 0.0000 0.0000 0.0000 0.0000 0.0000 0.0000 0.0000 \n"
     ]
    }
   ],
   "source": [
    "no = 9\n",
    "\n",
    "upload_file = f'./myDigits/{no}.png' \n",
    "img1 = io.imread(upload_file, as_gray=True)\n",
    "\n",
    "data_shape = data.shape \n",
    "image_resize = resize(img1, data_shape[2:], anti_aliasing=True)\n",
    "x1 = image_resize.reshape(*data_shape)\n",
    "\n",
    "x1 = 1.0 - x1\n",
    "for i in range(x1[0][0].shape[0]):\n",
    "    for j in range(x1[0][0].shape[0]):\n",
    "        print(f\"{x1[0][0][i][j]:.4f}\", end=' ')\n",
    "    print()"
   ]
  },
  {
   "cell_type": "code",
   "execution_count": 20,
   "metadata": {},
   "outputs": [
    {
     "data": {
      "image/png": "[encoded data removed]",
      "text/plain": [
       "<Figure size 640x480 with 1 Axes>"
      ]
     },
     "metadata": {},
     "output_type": "display_data"
    }
   ],
   "source": [
    "plt.imshow(x1.reshape(28, 28), cmap='gray')\n",
    "plt.axis(\"off\")\n",
    "plt.show()"
   ]
  },
  {
   "cell_type": "code",
   "execution_count": 23,
   "metadata": {},
   "outputs": [
    {
     "name": "stdout",
     "output_type": "stream",
     "text": [
      "<class 'numpy.ndarray'> (28,)\n"
     ]
    },
    {
     "data": {
      "text/plain": [
       "['0000000000000000000000000000',\n",
       " '0000000000000000000000000000',\n",
       " '0000000000000000000000000000',\n",
       " '0000001111111110000000000000',\n",
       " '0000011111111111000000000000',\n",
       " '0000111111111111100000000000',\n",
       " '0000111100000001110000000000',\n",
       " '0001111100000001110000000000',\n",
       " '0001111100000011111000000000',\n",
       " '0011111000000111111000000000',\n",
       " '0011111000001111110000000000',\n",
       " '0011110000111111100000000000',\n",
       " '0011110011111111000000000000',\n",
       " '0011111111111110000000000000',\n",
       " '0001111111111110000000000000',\n",
       " '0000111111111100000000000000',\n",
       " '0000000110111100000000000000',\n",
       " '0000000001111100000000000000',\n",
       " '0000000001111100000000000000',\n",
       " '0000000001111000000000000000',\n",
       " '0000000001111000000000000000',\n",
       " '0000000001110000000000000000',\n",
       " '0000000001110000000000000000',\n",
       " '0000000001110000000000000000',\n",
       " '0000000000110000000000000000',\n",
       " '0000000000011000000000000000',\n",
       " '0000000000000000000000000000',\n",
       " '0000000000000000000000000000']"
      ]
     },
     "execution_count": 23,
     "metadata": {},
     "output_type": "execute_result"
    }
   ],
   "source": [
    "X2 = x1[0][0].copy()\n",
    "X2[X2>0.1]=1\n",
    "print(type(X2), X2[0].shape)\n",
    "# 將轉換後二維內容顯示出來，隱約可以看出數字為 5\n",
    "text_image=[]\n",
    "for i in range(X2.shape[0]):\n",
    "    text_image.append(''.join(X2[i].astype(int).astype(str)))\n",
    "text_image"
   ]
  },
  {
   "cell_type": "code",
   "execution_count": 24,
   "metadata": {},
   "outputs": [
    {
     "name": "stdout",
     "output_type": "stream",
     "text": [
      "actual/prediction: 0 8\n",
      "actual/prediction: 1 1\n",
      "actual/prediction: 2 2\n",
      "actual/prediction: 3 3\n",
      "actual/prediction: 4 4\n",
      "actual/prediction: 5 5\n",
      "actual/prediction: 6 5\n",
      "actual/prediction: 7 7\n",
      "actual/prediction: 8 8\n",
      "actual/prediction: 9 7\n"
     ]
    }
   ],
   "source": [
    "# 讀取影像並轉為單色\n",
    "for i in range(10):\n",
    "    uploaded_file = f'./myDigits/{i}.png'\n",
    "    image1 = io.imread(uploaded_file, as_gray=True)\n",
    "\n",
    "    # 縮為 (28, 28) 大小的影像\n",
    "    image_resized = resize(image1, tuple(data_shape)[2:], anti_aliasing=True)    \n",
    "    X1 = image_resized.reshape(*data_shape) \n",
    "    \n",
    "    # 反轉顏色，顏色0為白色，與 RGB 色碼不同，它的 0 為黑色\n",
    "    X1 = 1.0-X1\n",
    "    \n",
    "    X1 = torch.FloatTensor(X1).to(device)\n",
    "    \n",
    "    # 預測\n",
    "    predictions = torch.softmax(model(X1), dim=1)\n",
    "    # print(np.around(predictions.cpu().detach().numpy(), 2))\n",
    "    print(f'actual/prediction: {i} {np.argmax(predictions.detach().cpu().numpy())}')"
   ]
  },
  {
   "cell_type": "code",
   "execution_count": 25,
   "metadata": {},
   "outputs": [
    {
     "name": "stdout",
     "output_type": "stream",
     "text": [
      "layer1: Sequential(\n",
      "  (0): Conv2d(1, 16, kernel_size=(5, 5), stride=(1, 1), padding=(2, 2))\n",
      "  (1): BatchNorm2d(16, eps=1e-05, momentum=0.1, affine=True, track_running_stats=True)\n",
      "  (2): ReLU()\n",
      "  (3): MaxPool2d(kernel_size=2, stride=2, padding=0, dilation=1, ceil_mode=False)\n",
      ")\n",
      "layer2: Sequential(\n",
      "  (0): Conv2d(16, 32, kernel_size=(5, 5), stride=(1, 1), padding=(2, 2))\n",
      "  (1): BatchNorm2d(32, eps=1e-05, momentum=0.1, affine=True, track_running_stats=True)\n",
      "  (2): ReLU()\n",
      "  (3): MaxPool2d(kernel_size=2, stride=2, padding=0, dilation=1, ceil_mode=False)\n",
      ")\n",
      "fc: Linear(in_features=1568, out_features=10, bias=True)\n"
     ]
    }
   ],
   "source": [
    "for name, module in model.named_children():\n",
    "    print(f'{name}: {module}')"
   ]
  }
 ],
 "metadata": {
  "kernelspec": {
   "display_name": "python",
   "language": "python",
   "name": "python3"
  },
  "language_info": {
   "codemirror_mode": {
    "name": "ipython",
    "version": 3
   },
   "file_extension": ".py",
   "mimetype": "text/x-python",
   "name": "python",
   "nbconvert_exporter": "python",
   "pygments_lexer": "ipython3",
   "version": "3.8.16"
  },
  "orig_nbformat": 4
 },
 "nbformat": 4,
 "nbformat_minor": 2
}
